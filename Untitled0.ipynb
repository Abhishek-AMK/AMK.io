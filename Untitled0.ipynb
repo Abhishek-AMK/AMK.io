{
  "nbformat": 4,
  "nbformat_minor": 0,
  "metadata": {
    "colab": {
      "provenance": [],
      "mount_file_id": "1XDQRkO8CCtNhU6PiqixVlcEN4QcoCQax",
      "authorship_tag": "ABX9TyPH3Em+tYniTsQKnjberhPI",
      "include_colab_link": true
    },
    "kernelspec": {
      "name": "python3",
      "display_name": "Python 3"
    },
    "language_info": {
      "name": "python"
    }
  },
  "cells": [
    {
      "cell_type": "markdown",
      "metadata": {
        "id": "view-in-github",
        "colab_type": "text"
      },
      "source": [
        "<a href=\"https://colab.research.google.com/github/Abhishek-AMK/AMK.io/blob/main/Untitled0.ipynb\" target=\"_parent\"><img src=\"https://colab.research.google.com/assets/colab-badge.svg\" alt=\"Open In Colab\"/></a>"
      ]
    },
    {
      "cell_type": "code",
      "execution_count": 11,
      "metadata": {
        "id": "B6BcYVPTiNh4",
        "colab": {
          "base_uri": "https://localhost:8080/"
        },
        "outputId": "2931778d-2127-4782-ebda-c6fb03cd9645"
      },
      "outputs": [
        {
          "output_type": "stream",
          "name": "stdout",
          "text": [
            "{'A': 'F', 'B': 'C', 'C': 3}\n",
            "{'A': 'F', 'B': 'C', 'C': (1, 2, 3, 4)}\n",
            "{'A': 'F', 'C': (1, 2, 3, 4)}\n"
          ]
        }
      ],
      "source": [
        "# Dictonary\n",
        "mydic = {\n",
        "    \"A\":\"T\",\n",
        "    \"B\":\"C\",\n",
        "    \"C\":3\n",
        "}\n",
        "mydic[\"A\"]=\"F\"\n",
        "print(mydic)\n",
        "mydic[\"C\"]=(1,2,3,4)\n",
        "print(mydic)\n",
        "del mydic[\"B\"]\n",
        "print(mydic)\n"
      ]
    },
    {
      "cell_type": "code",
      "source": [
        "set1={1,2,3,4,5}\n",
        "set2={5,3,6,4,3}\n",
        "set3=set1.union(set2)\n",
        "print(set3)\n",
        "set4=set1&set2\n",
        "print(set4)\n",
        "set5=set1.difference(set3)\n",
        "print(set5)"
      ],
      "metadata": {
        "colab": {
          "base_uri": "https://localhost:8080/"
        },
        "id": "jnyydg7W7KJI",
        "outputId": "39689da1-c8bb-4800-b548-0b2a88c63fe3"
      },
      "execution_count": 14,
      "outputs": [
        {
          "output_type": "stream",
          "name": "stdout",
          "text": [
            "{1, 2, 3, 4, 5, 6}\n",
            "{3, 4, 5}\n",
            "set()\n"
          ]
        }
      ]
    },
    {
      "cell_type": "code",
      "source": [
        "print(\"ABC \\n\"+str(43))"
      ],
      "metadata": {
        "colab": {
          "base_uri": "https://localhost:8080/"
        },
        "id": "5fABH-nWc9d_",
        "outputId": "0e7595e7-f41f-44e7-ee16-5eb810f809f3"
      },
      "execution_count": 5,
      "outputs": [
        {
          "output_type": "stream",
          "name": "stdout",
          "text": [
            "ABC \n",
            "43\n"
          ]
        }
      ]
    },
    {
      "cell_type": "code",
      "source": [
        "def a():\n",
        "  print(\"abcd \\nefgh \\nikhjeh\")\n",
        "\n",
        "a()\n"
      ],
      "metadata": {
        "colab": {
          "base_uri": "https://localhost:8080/"
        },
        "id": "lhDiwL_xddN5",
        "outputId": "8a3fc04d-f22d-4116-d5bc-dcf65b106876"
      },
      "execution_count": 8,
      "outputs": [
        {
          "output_type": "stream",
          "name": "stdout",
          "text": [
            "abcd \n",
            "efgh \n",
            "ikhjeh\n"
          ]
        }
      ]
    },
    {
      "cell_type": "code",
      "source": [
        "a=5\n",
        "for i in range(0,5):\n",
        "  print(i+1)"
      ],
      "metadata": {
        "colab": {
          "base_uri": "https://localhost:8080/"
        },
        "id": "Ztfa67Uqd_Ml",
        "outputId": "856865c3-fde3-4c39-9b0f-746564d36f6e"
      },
      "execution_count": 11,
      "outputs": [
        {
          "output_type": "stream",
          "name": "stdout",
          "text": [
            "1\n",
            "2\n",
            "3\n",
            "4\n",
            "5\n"
          ]
        }
      ]
    },
    {
      "cell_type": "code",
      "source": [
        "def rn(Teacher,*args,**kw):\n",
        "  print(\"Teacher name is\",Teacher)\n",
        "  for roll_no in args:\n",
        "    print(\"The student roll_no is\",roll_no)\n",
        "  for sub in kw:\n",
        "    print(\"The subject kw of\",sub,\"is,kw[sub])\n",
        "rn(\"Kamlesh\",1,2,3,4,5,6,7,8,9,10,English=1,Kannada=2,Maths=3)"
      ],
      "metadata": {
        "colab": {
          "base_uri": "https://localhost:8080/"
        },
        "id": "LFsehTcrpzW-",
        "outputId": "8defa712-454f-4a91-98e1-b2975487e08a"
      },
      "execution_count": 16,
      "outputs": [
        {
          "output_type": "stream",
          "name": "stdout",
          "text": [
            "Teacher name is Kamlesh\n",
            "The student roll_no is 1\n",
            "The student roll_no is 2\n",
            "The student roll_no is 3\n",
            "The student roll_no is 4\n",
            "The student roll_no is 5\n",
            "The student roll_no is 6\n",
            "The student roll_no is 7\n",
            "The student roll_no is 8\n",
            "The student roll_no is 9\n",
            "The student roll_no is 10\n",
            "The subject kw of English is 1\n",
            "The subject kw of Kannada is 2\n",
            "The subject kw of Maths is 3\n"
          ]
        }
      ]
    },
    {
      "cell_type": "code",
      "source": [
        "#List iteration\n",
        "my_list=[1,2,3,4]"
      ],
      "metadata": {
        "id": "_IzewXmhs9sf"
      },
      "execution_count": 19,
      "outputs": []
    },
    {
      "cell_type": "code",
      "source": [
        "iter_list=iter(my_list)\n",
        "print(next(iter_list))"
      ],
      "metadata": {
        "colab": {
          "base_uri": "https://localhost:8080/"
        },
        "id": "RTp-kAu_sS7U",
        "outputId": "1513ddc5-1e7f-41a2-a7b4-754780edf505"
      },
      "execution_count": 22,
      "outputs": [
        {
          "output_type": "stream",
          "name": "stdout",
          "text": [
            "1\n"
          ]
        }
      ]
    },
    {
      "cell_type": "code",
      "source": [
        "\n",
        "print(next(iter_list))"
      ],
      "metadata": {
        "colab": {
          "base_uri": "https://localhost:8080/"
        },
        "id": "CeFKk60ktIKh",
        "outputId": "f427ed13-5172-4bce-bb5f-03607f911dad"
      },
      "execution_count": 26,
      "outputs": [
        {
          "output_type": "stream",
          "name": "stdout",
          "text": [
            "3\n"
          ]
        }
      ]
    },
    {
      "cell_type": "code",
      "source": [
        "for i in iter_list:\n",
        "  print(next(iter_list))"
      ],
      "metadata": {
        "id": "3OAKunOMtf-W"
      },
      "execution_count": 28,
      "outputs": []
    },
    {
      "cell_type": "code",
      "source": [
        "A=\"hello\"\n",
        "print(A.replace(\"e\",\"f\"))"
      ],
      "metadata": {
        "colab": {
          "base_uri": "https://localhost:8080/"
        },
        "id": "1i_GxIift0Fl",
        "outputId": "e335f1b5-ff6e-440f-97f5-daedf34d5c53"
      },
      "execution_count": 32,
      "outputs": [
        {
          "output_type": "stream",
          "name": "stdout",
          "text": [
            "hfllo\n"
          ]
        }
      ]
    },
    {
      "cell_type": "markdown",
      "source": [
        "Read Write file\n"
      ],
      "metadata": {
        "id": "vWF4HrDbFx4R"
      }
    },
    {
      "cell_type": "code",
      "source": [
        "# Files\n",
        "# Write mode\n",
        "# Read mode\n",
        "# Append mode"
      ],
      "metadata": {
        "id": "LTNuK58PF3zd"
      },
      "execution_count": 1,
      "outputs": []
    },
    {
      "cell_type": "code",
      "source": [
        "file=open(\"/content/sample_data/a.txt\",\"r\")\n",
        "print(file.read())"
      ],
      "metadata": {
        "colab": {
          "base_uri": "https://localhost:8080/"
        },
        "id": "0whRci41GhSB",
        "outputId": "d25f3515-c7c2-4690-b6bc-355c2454400b"
      },
      "execution_count": 5,
      "outputs": [
        {
          "output_type": "stream",
          "name": "stdout",
          "text": [
            "# Files\n",
            "# Write mode\n",
            "# Read mode \n",
            "# Append mode\n"
          ]
        }
      ]
    },
    {
      "cell_type": "code",
      "source": [
        "file.close()"
      ],
      "metadata": {
        "id": "q7bmbCOGHpqP"
      },
      "execution_count": 6,
      "outputs": []
    },
    {
      "cell_type": "code",
      "source": [
        "file=open(\"/content/sample_data/a.txt\",\"w+\")\n",
        "file.write(\"This is AMK\")"
      ],
      "metadata": {
        "colab": {
          "base_uri": "https://localhost:8080/"
        },
        "id": "zT1U8D4pH4x0",
        "outputId": "f0f01b41-9244-4f5f-e991-3d620d839a63"
      },
      "execution_count": 23,
      "outputs": [
        {
          "output_type": "execute_result",
          "data": {
            "text/plain": [
              "11"
            ]
          },
          "metadata": {},
          "execution_count": 23
        }
      ]
    },
    {
      "cell_type": "code",
      "source": [
        "file=open(\"/content/sample_data/a.txt\",\"r\")\n",
        "print(file.read())"
      ],
      "metadata": {
        "colab": {
          "base_uri": "https://localhost:8080/"
        },
        "id": "X1eNPBzVIFyn",
        "outputId": "514ab8c9-587e-4a32-c185-904335e10187"
      },
      "execution_count": 24,
      "outputs": [
        {
          "output_type": "stream",
          "name": "stdout",
          "text": [
            "\n",
            "Hello sob's\n"
          ]
        }
      ]
    },
    {
      "cell_type": "code",
      "source": [
        "file=open(\"/content/sample_data/a.txt\",\"a+\")\n",
        "file.write(\"\\nHello sob's\")"
      ],
      "metadata": {
        "colab": {
          "base_uri": "https://localhost:8080/"
        },
        "id": "FtJ-1VeRISZK",
        "outputId": "19add710-0dc5-4e9a-97dc-b3959f6ffd0c"
      },
      "execution_count": 25,
      "outputs": [
        {
          "output_type": "execute_result",
          "data": {
            "text/plain": [
              "12"
            ]
          },
          "metadata": {},
          "execution_count": 25
        }
      ]
    },
    {
      "cell_type": "code",
      "source": [
        "file=open(\"/content/sample_data/a.txt\",\"r\")\n",
        "print(file.read())"
      ],
      "metadata": {
        "colab": {
          "base_uri": "https://localhost:8080/"
        },
        "id": "xvyjyL0sIlFv",
        "outputId": "25292563-34db-4ddd-821f-71a4ad96babe"
      },
      "execution_count": 27,
      "outputs": [
        {
          "output_type": "stream",
          "name": "stdout",
          "text": [
            "This is AMKs\n",
            "Hello sob's\n"
          ]
        }
      ]
    },
    {
      "cell_type": "code",
      "source": [
        "with open(\"/content/sample_data/a.txt\",\"r+\") as file1:\n",
        "  print(file1.read())"
      ],
      "metadata": {
        "colab": {
          "base_uri": "https://localhost:8080/"
        },
        "id": "iTZok47TI2q8",
        "outputId": "7deb4b16-887c-4d37-e632-ce0d837dde28"
      },
      "execution_count": 28,
      "outputs": [
        {
          "output_type": "stream",
          "name": "stdout",
          "text": [
            "This is AMKs\n",
            "Hello sob's\n"
          ]
        }
      ]
    },
    {
      "cell_type": "code",
      "source": [],
      "metadata": {
        "id": "h4qQOXjgRWLD"
      },
      "execution_count": null,
      "outputs": []
    }
  ]
}